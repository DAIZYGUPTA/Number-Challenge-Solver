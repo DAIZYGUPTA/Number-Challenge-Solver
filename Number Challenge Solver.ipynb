{
 "cells": [
  {
   "cell_type": "code",
   "execution_count": null,
   "id": "84deb04a-b549-4a2d-bbd8-e5d5aa3469dc",
   "metadata": {},
   "outputs": [],
   "source": []
  },
  {
   "cell_type": "code",
   "execution_count": null,
   "id": "a6ded9cd-c848-4fbc-b484-6f8f29a58ea6",
   "metadata": {},
   "outputs": [],
   "source": [
    "'''\n",
    "You have encountered a number challenge! Your task is to solve different\n",
    "number-related puzzles using control flow statements. Write a Python program\n",
    "that prompts the user to enter a number and perform operations to determine\n",
    "properties of the number.\n",
    "Requirements:\n",
    "1. Prompt the user to enter a number.\n",
    "2. Check if the number is positive, negative, or zero, and display the result.\n",
    "3. Check if the number is even or odd, and display the result.\n",
    "4. Prompt the user to enter a divisor and check if the number is a multiple of the\n",
    "divisor, displaying the result.\n",
    "5. Provide feedback to the user based on their answers and encourage them to\n",
    "solve more number challenges.\n",
    "'''"
   ]
  },
  {
   "cell_type": "code",
   "execution_count": 1,
   "id": "ae93b3f3-c935-48e0-824a-c06a54fd2056",
   "metadata": {},
   "outputs": [
    {
     "name": "stdin",
     "output_type": "stream",
     "text": [
      "Enter a number:  10\n"
     ]
    },
    {
     "name": "stdout",
     "output_type": "stream",
     "text": [
      "The number is positive.\n",
      "The number is even.\n"
     ]
    },
    {
     "name": "stdin",
     "output_type": "stream",
     "text": [
      "Enter a divisor:  5\n"
     ]
    },
    {
     "name": "stdout",
     "output_type": "stream",
     "text": [
      "10.0 is a multiple of 5.0.\n",
      "Congratulations! You've completed the number challenge. Feel free to try more challenges!\n"
     ]
    }
   ],
   "source": [
    "class NumberChallenge:\n",
    "\n",
    "    def __init__(self):\n",
    "        self.number = 0\n",
    "\n",
    "    def prompt_user(self):\n",
    "        self.number = float(input(\"Enter a number: \"))\n",
    "\n",
    "    def check_positivity(self):\n",
    "        if self.number > 0:\n",
    "            print(\"The number is positive.\")\n",
    "        elif self.number == 0:\n",
    "            print(\"The number is zero.\")\n",
    "        else:\n",
    "            print(\"The number is negative.\")\n",
    "\n",
    "    def check_even_odd(self):\n",
    "        if self.number % 2 == 0:\n",
    "            print(\"The number is even.\")\n",
    "        else:\n",
    "            print(\"The number is odd.\")\n",
    "\n",
    "    def check_divisibility(self):\n",
    "        divisor = float(input(\"Enter a divisor: \"))\n",
    "        if divisor == 0:\n",
    "            print(\"Cannot divide by zero.\")\n",
    "        elif self.number % divisor == 0:\n",
    "            print(f\"{self.number} is a multiple of {divisor}.\")\n",
    "        else:\n",
    "            print(f\"{self.number} is not a multiple of {divisor}.\")\n",
    "\n",
    "    def run_challenge(self):\n",
    "        self.prompt_user()\n",
    "        self.check_positivity()\n",
    "        self.check_even_odd()\n",
    "        self.check_divisibility()\n",
    "        print(\"Congratulations! You've completed the number challenge. Feel free to try more challenges!\")\n",
    "\n",
    "\n",
    "challenge = NumberChallenge()\n",
    "challenge.run_challenge()"
   ]
  },
  {
   "cell_type": "code",
   "execution_count": null,
   "id": "88a58b61-8911-4347-bad2-f12a000a33f9",
   "metadata": {},
   "outputs": [],
   "source": []
  }
 ],
 "metadata": {
  "kernelspec": {
   "display_name": "Python 3 (ipykernel)",
   "language": "python",
   "name": "python3"
  },
  "language_info": {
   "codemirror_mode": {
    "name": "ipython",
    "version": 3
   },
   "file_extension": ".py",
   "mimetype": "text/x-python",
   "name": "python",
   "nbconvert_exporter": "python",
   "pygments_lexer": "ipython3",
   "version": "3.10.8"
  }
 },
 "nbformat": 4,
 "nbformat_minor": 5
}
